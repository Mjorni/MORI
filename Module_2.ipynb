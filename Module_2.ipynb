{
 "cells": [
  {
   "cell_type": "markdown",
   "metadata": {},
   "source": [
    "# Модуль 2. Классификация изображений\n"
   ]
  },
  {
   "cell_type": "markdown",
   "metadata": {},
   "source": [
    "## Сопоставление изображений\n"
   ]
  },
  {
   "cell_type": "markdown",
   "metadata": {},
   "source": [
    "### Алгоритмы сопоставления изображений\n",
    "\n",
    "Для реализации алгоритма классификации изображений, я предложу вам пример кода, использующий библиотеку tensorflow и keras. В этом примере мы будем использовать предварительно обученную модель MobileNetV2 для классификации изображений.\n",
    "\n",
    "Прежде всего, убедитесь, что у вас установлены tensorflow и keras\n"
   ]
  },
  {
   "cell_type": "code",
   "execution_count": null,
   "metadata": {},
   "outputs": [],
   "source": [
    "import numpy as np\n",
    "from tensorflow.keras.applications import MobileNetV2\n",
    "from tensorflow.keras.applications.mobilenet_v2 import preprocess_input, decode_predictions\n",
    "from tensorflow.keras.preprocessing import image\n",
    "\n",
    "# Загрузка предварительно обученной модели MobileNetV2\n",
    "model = MobileNetV2(weights=\"imagenet\")\n",
    "\n",
    "\n",
    "def classify_image(img_path):\n",
    "    # Загрузка изображения, его предварительная обработка и расширение размерностей\n",
    "    img = image.load_img(img_path, target_size=(224, 224))\n",
    "    img_array = image.img_to_array(img)\n",
    "    img_array_expanded_dims = np.expand_dims(img_array, axis=0)\n",
    "    preprocessed_image = preprocess_input(img_array_expanded_dims)\n",
    "\n",
    "    # Прогнозирование и декодирование предсказаний\n",
    "    predictions = model.predict(preprocessed_image)\n",
    "    results = decode_predictions(predictions, top=3)[0]\n",
    "\n",
    "    # Вывод результатов\n",
    "    for i, (imagenet_id, label, score) in enumerate(results):\n",
    "        print(f\"{i + 1}: {label} ({score*100:.2f}%)\")\n",
    "\n",
    "\n",
    "# Пример использования\n",
    "img_path = \"./data/texture_01.jpg\"\n",
    "classify_image(img_path)"
   ]
  },
  {
   "cell_type": "markdown",
   "metadata": {},
   "source": [
    "### Построение мозаики из изображений\n",
    "\n",
    "Для построения мозаики изображений на Python, можно использовать библиотеку PIL (Python Imaging Library), которая теперь доступна как Pillow. Ниже приведен пример кода, который создает мозаику из нескольких изображений. Допустим, у нас есть четыре изображения, и мы хотим их объединить в одно большое изображение-мозаику в формате 2x2.\n",
    "\n",
    "Прежде всего, убедитесь, что у вас установлена библиотека Pillow\n"
   ]
  },
  {
   "cell_type": "code",
   "execution_count": 23,
   "metadata": {},
   "outputs": [],
   "source": [
    "from PIL import Image\n",
    "\n",
    "\n",
    "def crop_to_square(img, size):\n",
    "    \"\"\"\n",
    "    Обрезка изображения до квадратной формы по центру.\n",
    "    \"\"\"\n",
    "    # Определение текущих размеров\n",
    "    width, height = img.size\n",
    "\n",
    "    # Определение размера для обрезки\n",
    "    new_size = min(width, height, size)\n",
    "\n",
    "    # Вычисление координат для обрезки\n",
    "    left = (width - new_size) / 2\n",
    "    top = (height - new_size) / 2\n",
    "    right = (width + new_size) / 2\n",
    "    bottom = (height + new_size) / 2\n",
    "\n",
    "    # Обрезка и возврат изображения\n",
    "    img = img.crop((left, top, right, bottom))\n",
    "    return img.resize((size, size), Image.Resampling.LANCZOS)\n",
    "\n",
    "\n",
    "# Пути к изображениям, которые будут включены в мозаику\n",
    "image_paths = [\"image1.jpg\", \"image2.jpg\", \"image3.jpg\", \"image4.jpg\"]\n",
    "\n",
    "# Открытие изображений и их сохранение в список\n",
    "images = [Image.open(f\"./data/{x}\") for x in image_paths]\n",
    "\n",
    "# Определение минимального размера среди всех изображений\n",
    "min_size = min(min(img.size) for img in images)\n",
    "\n",
    "# Обрезка изображений до квадратов и изменение их размера\n",
    "squared_images = [crop_to_square(img, min_size) for img in images]\n",
    "\n",
    "# Создание нового пустого изображения для мозаики\n",
    "mosaic_size = (min_size * 2, min_size * 2)\n",
    "mosaic_image = Image.new(\"RGB\", mosaic_size, (255, 255, 255))\n",
    "\n",
    "# Размещение изображений в мозаике\n",
    "positions = [(0, 0), (min_size, 0), (0, min_size), (min_size, min_size)]\n",
    "for img, pos in zip(squared_images, positions):\n",
    "    mosaic_image.paste(img, pos)\n",
    "\n",
    "# Сохранение и показ мозаики\n",
    "mosaic_image.save(\"./result/mosaic.jpg\")\n",
    "mosaic_image.show()"
   ]
  }
 ],
 "metadata": {
  "kernelspec": {
   "display_name": ".venv",
   "language": "python",
   "name": "python3"
  },
  "language_info": {
   "codemirror_mode": {
    "name": "ipython",
    "version": 3
   },
   "file_extension": ".py",
   "mimetype": "text/x-python",
   "name": "python",
   "nbconvert_exporter": "python",
   "pygments_lexer": "ipython3",
   "version": "3.10.11"
  }
 },
 "nbformat": 4,
 "nbformat_minor": 2
}
